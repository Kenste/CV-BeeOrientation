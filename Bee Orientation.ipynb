{
 "cells": [
  {
   "cell_type": "markdown",
   "id": "c5cb57f2-4abb-428d-9bfb-d338f018959a",
   "metadata": {},
   "source": [
    "# Bee Orientation Project Experiment Notebook\n",
    "\n",
    "This notebook provides a comprehensive script to run the entire experiment for the Bee Orientation project. \n",
    "It covers dataset preparation, model definition, training, evaluation, visualization of predictions, and model analysis."
   ]
  },
  {
   "cell_type": "markdown",
   "id": "39ce6860-5230-47cd-9540-f9ef85135a88",
   "metadata": {},
   "source": [
    "## 1. Setup and Imports\n",
    "\n",
    "This section imports all necessary libraries and modules from the `src` directory of the `CV-BeeOrientation` repository. "
   ]
  },
  {
   "cell_type": "code",
   "execution_count": null,
   "id": "c94e8e88-822f-4781-ac80-514d08f55dd1",
   "metadata": {},
   "outputs": [],
   "source": [
    "import os\n",
    "import torch\n",
    "import torch.nn as nn\n",
    "from torch.utils.data import DataLoader, random_split\n",
    "import matplotlib.pyplot as plt\n",
    "import numpy as np\n",
    "import pandas as pd\n",
    "\n",
    "# Import project-specific modules\n",
    "from src.dataset import BeeSegmentationDataset\n",
    "from src.models.base import UNet3\n",
    "from src.models.resunet import ResUNet18\n",
    "from src.utils.split_dataset import split_dataset_two_stage\n",
    "from src.utils.training import train_model\n",
    "from src.utils.evaluation import evaluate_on_test, collect_evaluation_data, load_checkpoint\n",
    "from src.utils import plots"
   ]
  },
  {
   "cell_type": "markdown",
   "id": "f4f4b7a5-6a99-47f5-988f-e953562dd537",
   "metadata": {},
   "source": [
    "## 2. Dataset Setup\n",
    "\n",
    "This section checks if the dataset is already available.\n",
    "If not, it downloads the original dataset archives, extracts them, and runs the preparation script to produce cropped images and masks ready for training."
   ]
  },
  {
   "cell_type": "code",
   "execution_count": null,
   "id": "c0d3d7ce-1ff5-4925-ad1c-8f673c2b7b75",
   "metadata": {},
   "outputs": [],
   "source": [
    "!python scripts/prepare_dataset.py"
   ]
  },
  {
   "cell_type": "markdown",
   "id": "6bd9f1d2-cf45-487e-9d34-45180536aeec",
   "metadata": {},
   "source": [
    "## 3. Configure and Load Dataset\n",
    "\n",
    "Here, we configure parameters for the dataset and data loaders, including batch size and shuffling. \n",
    "The `split_dataset_two_stage` utility splits the dataset into training, validation, and test sets."
   ]
  },
  {
   "cell_type": "code",
   "execution_count": null,
   "id": "5d27e670-dc36-409a-8e2e-0210bde5104e",
   "metadata": {},
   "outputs": [],
   "source": [
    "# Dataset Configuration\n",
    "DATA_IMAGES_PATH = \"data/processed/images\"\n",
    "DATA_MASKS_PATH = \"data/processed/masks\"\n",
    "CSV_PATH = \"data/processed/labels.csv\"\n",
    "BATCH_SIZE = 16\n",
    "SHUFFLE_TRAIN_DATA = True\n",
    "RANDOM_SEED = None\n",
    "# Set device for training and inference\n",
    "device = torch.device(\"cuda\" if torch.cuda.is_available() else \"cpu\")\n",
    "print(f\"Using device: {device}\")\n",
    "\n",
    "print(f\"Loading dataset from images: {DATA_IMAGES_PATH} and masks: {DATA_MASKS_PATH}\")\n",
    "dataset = BeeSegmentationDataset(DATA_IMAGES_PATH, DATA_MASKS_PATH)\n",
    "\n",
    "train_dataset, val_dataset, test_dataset, seed = split_dataset_two_stage(dataset, seed=RANDOM_SEED)\n",
    "\n",
    "train_loader = DataLoader(train_dataset, batch_size=BATCH_SIZE, shuffle=SHUFFLE_TRAIN_DATA)\n",
    "val_loader = DataLoader(val_dataset, batch_size=BATCH_SIZE)\n",
    "test_loader = DataLoader(test_dataset, batch_size=BATCH_SIZE)"
   ]
  },
  {
   "cell_type": "markdown",
   "id": "09beb49b-e6ce-4df2-b51d-2174aaf6f093",
   "metadata": {},
   "source": [
    "## 4. Global Experiment Parameters"
   ]
  },
  {
   "cell_type": "code",
   "execution_count": null,
   "id": "752569d2-4012-4304-979c-1099756b0260",
   "metadata": {},
   "outputs": [],
   "source": [
    "GLOBAL_LEARNING_RATE = 1e-3\n",
    "GLOBAL_NUM_EPOCHS = 20\n",
    "GLOBAL_LOSS_WEIGHTS = torch.tensor([0.1, 1.0, 1.0]).to(device)"
   ]
  },
  {
   "cell_type": "markdown",
   "id": "03f6a6c7-0526-4edd-b1cd-7bf189d77617",
   "metadata": {},
   "source": [
    "## 5. Experiment for UNet3 Model\n",
    "\n",
    "This section runs the complete experiment pipeline specifically for the `UNet3` model."
   ]
  },
  {
   "cell_type": "markdown",
   "id": "8730b8ea-828d-4c7c-9215-bf769dd94551",
   "metadata": {},
   "source": [
    "### 5.1. UNet3 Model Definition"
   ]
  },
  {
   "cell_type": "code",
   "execution_count": null,
   "id": "6b5ec376-fbae-4825-b56e-5f4f0c74b987",
   "metadata": {},
   "outputs": [],
   "source": [
    "print(f\"\\n{'='*80}\")\n",
    "print(\"Starting Experiment for Model: UNet3\")\n",
    "print(f\"{'='*80}\\n\")\n",
    "\n",
    "model_unet3 = UNet3().to(device)"
   ]
  },
  {
   "cell_type": "markdown",
   "id": "8bf5aabb-49e5-4f63-bc08-60ffda820829",
   "metadata": {},
   "source": [
    "### 5.2. UNet3 Training Setup"
   ]
  },
  {
   "cell_type": "code",
   "execution_count": null,
   "id": "46b03a92-5f01-4526-8674-cdde9bc2cf51",
   "metadata": {},
   "outputs": [],
   "source": [
    "optimizer_unet3 = torch.optim.Adam(model_unet3.parameters(), lr=GLOBAL_LEARNING_RATE)\n",
    "criterion_unet3 = nn.CrossEntropyLoss(weight=GLOBAL_LOSS_WEIGHTS)"
   ]
  },
  {
   "cell_type": "markdown",
   "id": "8e41ccc7-3307-46e6-9a49-a6e5f83f55a4",
   "metadata": {},
   "source": [
    "### 5.3. UNet3 Model Training"
   ]
  },
  {
   "cell_type": "code",
   "execution_count": null,
   "id": "a585de08-8f09-45cc-8a72-82e588a0054a",
   "metadata": {
    "scrolled": true
   },
   "outputs": [],
   "source": [
    "train_losses_unet3, val_losses_unet3, best_path_unet3 = train_model(\n",
    "    model_unet3,\n",
    "    train_loader,\n",
    "    val_loader,\n",
    "    optimizer_unet3,\n",
    "    criterion_unet3,\n",
    "    device,\n",
    "    num_epochs=GLOBAL_NUM_EPOCHS,\n",
    "    checkpoint_filename=None\n",
    ")\n",
    "\n",
    "plots.plot_training_curves(train_losses_unet3, val_losses_unet3, model_unet3, save_path=\"results/UNet3 Loss.png\")"
   ]
  },
  {
   "cell_type": "markdown",
   "id": "a8f232a9-4697-4ecd-be08-f5d5c52a5bb3",
   "metadata": {},
   "source": [
    "### 5.4. UNet3 Model Evaluation"
   ]
  },
  {
   "cell_type": "code",
   "execution_count": null,
   "id": "6ff1a56d",
   "metadata": {},
   "outputs": [],
   "source": [
    "model_unet3 = load_checkpoint(model_unet3, best_path_unet3, device)"
   ]
  },
  {
   "cell_type": "code",
   "execution_count": null,
   "id": "467f4fb9-1096-4ad1-89ef-4f48d6829661",
   "metadata": {
    "scrolled": true
   },
   "outputs": [],
   "source": [
    "df = pd.read_csv(CSV_PATH)\n",
    "gt_csv = {row[\"mask_filename\"]: row[\"angle\"] for _, row in df.iterrows()}\n",
    "data_unet3, avg_loss_unet3 = collect_evaluation_data(model_unet3, test_loader, criterion_unet3, device, gt_csv)"
   ]
  },
  {
   "cell_type": "code",
   "execution_count": null,
   "id": "8b2eebf4",
   "metadata": {},
   "outputs": [],
   "source": [
    "results_unet3 = evaluate_on_test(data_unet3, avg_loss_unet3)\n",
    "plots.plot_orientation_error_distribution(results_unet3[\"orientation\"][\"all_errors_deg\"], model_unet3, save_path=\"results/UNet3 Orientation Error.png\")\n",
    "plots.plot_miou_vs_orientation_error(data_unet3, model_unet3)\n",
    "plots.plot_miou_vs_orientation_error_hexbin(data_unet3, model_unet3, save_path=\"results/UNet3 mIoU vs Orientation Error.png\")\n",
    "plots.plot_signed_orientation_error_distribution(data_unet3, model_unet3, save_path=\"results/UNet3 Signed Orientation Error Distribution.png\")\n",
    "plots.plot_orientation_error_vs_gt_angle_hexbin(data_unet3, model_unet3, save_path=\"results/UNet3 Orientation Error vs GT-Angle.png\")"
   ]
  },
  {
   "cell_type": "markdown",
   "id": "1b86f62a-bb9e-4476-a7ee-9ad78f6ab48c",
   "metadata": {},
   "source": [
    "### 5.5. UNet3 Model Size"
   ]
  },
  {
   "cell_type": "code",
   "execution_count": null,
   "id": "b220f1e3-063f-487c-9316-7333bfcd3d67",
   "metadata": {},
   "outputs": [],
   "source": [
    "total_params_unet3 = sum(p.numel() for p in model_unet3.parameters() if p.requires_grad)\n",
    "print(f\"\\nNumber of trainable parameters in UNet3: {total_params_unet3}\")"
   ]
  },
  {
   "cell_type": "markdown",
   "id": "b9bb17a5-94ac-401f-9fb0-7a624dbef69c",
   "metadata": {},
   "source": [
    "### 5.6. UNet3 Example Prediction Masks"
   ]
  },
  {
   "cell_type": "code",
   "execution_count": null,
   "id": "aff7baff-1b35-4e19-b289-bda1e11c1e45",
   "metadata": {},
   "outputs": [],
   "source": [
    "plots.plot_predictions(data_unet3, model_unet3, save_path=\"results/UNet3 Prediction Masks.png\")\n",
    "plots.plot_worst_orientation_errors(data_unet3, model_unet3, save_path=\"results/UNet3 Worst Orientation Errors.png\")\n",
    "plots.plot_orientation_errors_in_range(data_unet3, model_unet3, save_path=\"results/UNet3 Orientation Errors 90deg Range.png\")"
   ]
  },
  {
   "cell_type": "markdown",
   "id": "fc6bc40b-35f4-402d-906d-4b795a0edc13",
   "metadata": {},
   "source": [
    "## 6. Experiment for ResUNet18 Model\n",
    "\n",
    "This section runs the complete experiment pipeline specifically for the `ResUNet18` model."
   ]
  },
  {
   "cell_type": "markdown",
   "id": "7b281f79-fb06-4deb-b6f9-d5d47618fa6d",
   "metadata": {},
   "source": [
    "### 6.1. ResUNet18 Model Definition"
   ]
  },
  {
   "cell_type": "code",
   "execution_count": null,
   "id": "1ba88b1b-d43c-47d2-89be-35a9e791d453",
   "metadata": {},
   "outputs": [],
   "source": [
    "print(f\"\\n{'='*80}\")\n",
    "print(\"Starting Experiment for Model: ResUNet18\")\n",
    "print(f\"{'='*80}\\n\")\n",
    "\n",
    "model_resunet18 = ResUNet18().to(device)"
   ]
  },
  {
   "cell_type": "markdown",
   "id": "93bd29e7-78fa-4f1c-a9c6-b3904236a7d0",
   "metadata": {},
   "source": [
    "### 6.2. ResUNet18 Training Setup"
   ]
  },
  {
   "cell_type": "code",
   "execution_count": null,
   "id": "77ae3047-50a0-47ab-8eec-a71c07a96ae5",
   "metadata": {},
   "outputs": [],
   "source": [
    "criterion_resunet18 = nn.CrossEntropyLoss(weight=GLOBAL_LOSS_WEIGHTS)\n",
    "optimizer_resunet18 = torch.optim.Adam(model_resunet18.parameters(), lr=GLOBAL_LEARNING_RATE)"
   ]
  },
  {
   "cell_type": "markdown",
   "id": "f19fceb5-6c31-4c83-ad37-c25b68006dfe",
   "metadata": {},
   "source": [
    "### 6.3. ResUNet18 Model Training"
   ]
  },
  {
   "cell_type": "code",
   "execution_count": null,
   "id": "bcadea47-a59f-48ea-9710-f2fc52c5cbe7",
   "metadata": {
    "scrolled": true
   },
   "outputs": [],
   "source": [
    "train_losses_resunet18, val_losses_resunet18, best_path_resunet18 = train_model(\n",
    "    model_resunet18,\n",
    "    train_loader,\n",
    "    val_loader,\n",
    "    optimizer_resunet18,\n",
    "    criterion_resunet18,\n",
    "    device,\n",
    "    num_epochs=GLOBAL_NUM_EPOCHS,\n",
    "    checkpoint_filename=None\n",
    ")\n",
    "\n",
    "plots.plot_training_curves(train_losses_resunet18, val_losses_resunet18, model_resunet18, save_path=\"results/ResUNet18 Loss.png\")"
   ]
  },
  {
   "cell_type": "markdown",
   "id": "55ea5621-4b70-4903-ac7a-aa9b2537f261",
   "metadata": {},
   "source": [
    "### 6.4. ResUNet18 Model Evaluation"
   ]
  },
  {
   "cell_type": "code",
   "execution_count": null,
   "id": "cf0681ad",
   "metadata": {},
   "outputs": [],
   "source": [
    "model_resunet18 = load_checkpoint(model_resunet18, best_path_resunet18, device)"
   ]
  },
  {
   "cell_type": "code",
   "execution_count": null,
   "id": "dec3ec50-8057-448d-a925-638af0cc9abe",
   "metadata": {
    "scrolled": true
   },
   "outputs": [],
   "source": [
    "df = pd.read_csv(CSV_PATH)\n",
    "gt_csv = {row[\"mask_filename\"]: row[\"angle\"] for _, row in df.iterrows()}\n",
    "data_resunet18, avg_loss_resunet18 = collect_evaluation_data(model_resunet18, test_loader, criterion_resunet18, device, gt_csv)"
   ]
  },
  {
   "cell_type": "code",
   "execution_count": null,
   "id": "7765ba69",
   "metadata": {},
   "outputs": [],
   "source": [
    "results_resunet18 = evaluate_on_test(data_resunet18, avg_loss_resunet18)\n",
    "plots.plot_orientation_error_distribution(results_resunet18[\"orientation\"][\"all_errors_deg\"], model_resunet18, save_path=\"results/ResUNet18 Orientation Error.png\")\n",
    "plots.plot_miou_vs_orientation_error(data_resunet18, model_resunet18)\n",
    "plots.plot_miou_vs_orientation_error_hexbin(data_resunet18, model_resunet18, save_path=\"results/ResUNet18 mIoU vs Orientation Error.png\")\n",
    "plots.plot_signed_orientation_error_distribution(data_resunet18, model_resunet18, save_path=\"results/ResUNet18 Signed Orientation Error Distribution.png\")\n",
    "plots.plot_orientation_error_vs_gt_angle_hexbin(data_resunet18, model_resunet18, save_path=\"results/ResUNet18 Orientation Error vs GT-Angle.png\")"
   ]
  },
  {
   "cell_type": "markdown",
   "id": "125cfd1f-f6c4-4de8-96c6-6de841a02590",
   "metadata": {},
   "source": [
    "### 6.5. ResUNet18 Model Size"
   ]
  },
  {
   "cell_type": "code",
   "execution_count": null,
   "id": "f85a62dd-2032-4149-b6d6-61633c6012f5",
   "metadata": {},
   "outputs": [],
   "source": [
    "total_params_resunet18 = sum(p.numel() for p in model_resunet18.parameters() if p.requires_grad)\n",
    "print(f\"\\nNumber of trainable parameters in ResUNet18: {total_params_resunet18}\")"
   ]
  },
  {
   "cell_type": "markdown",
   "id": "b0102a75-79d2-4de4-b6b1-64e47b3ca5fe",
   "metadata": {},
   "source": [
    "### 6.6. ResUNet18 Example Prediction Masks"
   ]
  },
  {
   "cell_type": "code",
   "execution_count": null,
   "id": "802886a0-3b66-42a1-8343-8390e64e618c",
   "metadata": {},
   "outputs": [],
   "source": [
    "plots.plot_predictions(data_resunet18, model_resunet18, save_path=\"results/ResUNet18 Prediction Masks.png\")\n",
    "plots.plot_worst_orientation_errors(data_resunet18, model_resunet18, save_path=\"results/ResUNet18 Worst Orientation Errors.png\")\n",
    "plots.plot_orientation_errors_in_range(data_resunet18, model_resunet18, save_path=\"results/ResUNet18 Orientation Errors 90deg Range.png\")"
   ]
  }
 ],
 "metadata": {
  "kernelspec": {
   "display_name": "Python 3",
   "language": "python",
   "name": "python3"
  },
  "language_info": {
   "codemirror_mode": {
    "name": "ipython",
    "version": 3
   },
   "file_extension": ".py",
   "mimetype": "text/x-python",
   "name": "python",
   "nbconvert_exporter": "python",
   "pygments_lexer": "ipython3",
   "version": "3.8.8"
  }
 },
 "nbformat": 4,
 "nbformat_minor": 5
}
